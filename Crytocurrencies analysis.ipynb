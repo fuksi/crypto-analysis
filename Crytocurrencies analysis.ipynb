{
 "cells": [
  {
   "cell_type": "markdown",
   "metadata": {},
   "source": [
    "### Crytocurrencies analyis\n",
    "\n",
    "#### Objective\n",
    "Show statistical 'analysis' on\n",
    "- Random variable 'winning', where X='BTC' is the event where BTC price increase the most in pct compared to other ccys during in interval\n",
    "- Random varible 'no trade', where X='BTC' is the event where BTC was not traded during an interval\n",
    "\n",
    "#### Approach\n",
    "Just explore data by counting for now \n"
   ]
  },
  {
   "cell_type": "markdown",
   "metadata": {},
   "source": [
    "#### Dependencies"
   ]
  },
  {
   "cell_type": "code",
   "execution_count": 1,
   "metadata": {},
   "outputs": [],
   "source": [
    "# Tech\n",
    "import os\n",
    "import sys\n",
    "import pandas as pd\n",
    "import numpy as np\n",
    "import pendulum\n",
    "\n",
    "from src.models import DeltaPoint, Trade    \n",
    "from src.computed import get_pricepoints_winner_count, get_all_result"
   ]
  },
  {
   "cell_type": "code",
   "execution_count": 19,
   "metadata": {},
   "outputs": [],
   "source": [
    "# Get data\n",
    "all_result = get_all_result()\n",
    "timestamps = [pendulum.from_timestamp(ts) for ts in all_result[0]]\n",
    "data_points = all_result[1]"
   ]
  },
  {
   "cell_type": "code",
   "execution_count": 20,
   "metadata": {},
   "outputs": [
    {
     "data": {
      "text/plain": [
       "dict_keys(['BTCUSD', 'ETHUSD', 'LTCUSD', 'XRPUSD', 'EOSUSD', 'NONE'])"
      ]
     },
     "execution_count": 20,
     "metadata": {},
     "output_type": "execute_result"
    }
   ],
   "source": []
  },
  {
   "cell_type": "code",
   "execution_count": 32,
   "metadata": {},
   "outputs": [],
   "source": [
    "def compare_winning_periods(interval):\n",
    "    periods = [7, 30, 183, 365]\n",
    "    periods_text = ['Week', 'Month', 'Half-year', 'Year']\n",
    "    winners = ['BTCUSD', 'ETHUSD', 'LTCUSD', 'XRPUSD', 'EOSUSD', 'NONE']\n",
    "    winners_dict = {}\n",
    "    for w in winners:\n",
    "        winners_dict[w] = []\n",
    "        for p in periods:\n",
    "            count = 0\n",
    "            for i in range(p):\n",
    "                count += data_points[i][str(interval)]['winners'][w]\n",
    "                \n",
    "            avg = count / p\n",
    "                \n",
    "            winners_dict[w].append(avg)\n",
    "                \n",
    "    df = pd.DataFrame(winners_dict, index=periods_text).round(2)\n",
    "    \n",
    "    return df"
   ]
  },
  {
   "cell_type": "code",
   "execution_count": 34,
   "metadata": {},
   "outputs": [
    {
     "data": {
      "text/html": [
       "<div>\n",
       "<style scoped>\n",
       "    .dataframe tbody tr th:only-of-type {\n",
       "        vertical-align: middle;\n",
       "    }\n",
       "\n",
       "    .dataframe tbody tr th {\n",
       "        vertical-align: top;\n",
       "    }\n",
       "\n",
       "    .dataframe thead th {\n",
       "        text-align: right;\n",
       "    }\n",
       "</style>\n",
       "<table border=\"1\" class=\"dataframe\">\n",
       "  <thead>\n",
       "    <tr style=\"text-align: right;\">\n",
       "      <th></th>\n",
       "      <th>BTCUSD</th>\n",
       "      <th>ETHUSD</th>\n",
       "      <th>LTCUSD</th>\n",
       "      <th>XRPUSD</th>\n",
       "      <th>EOSUSD</th>\n",
       "      <th>NONE</th>\n",
       "    </tr>\n",
       "  </thead>\n",
       "  <tbody>\n",
       "    <tr>\n",
       "      <th>Week</th>\n",
       "      <td>0.48</td>\n",
       "      <td>0.19</td>\n",
       "      <td>0.12</td>\n",
       "      <td>0.10</td>\n",
       "      <td>0.1</td>\n",
       "      <td>0.0</td>\n",
       "    </tr>\n",
       "    <tr>\n",
       "      <th>Month</th>\n",
       "      <td>0.48</td>\n",
       "      <td>0.16</td>\n",
       "      <td>0.10</td>\n",
       "      <td>0.16</td>\n",
       "      <td>0.1</td>\n",
       "      <td>0.0</td>\n",
       "    </tr>\n",
       "    <tr>\n",
       "      <th>Half-year</th>\n",
       "      <td>0.45</td>\n",
       "      <td>0.17</td>\n",
       "      <td>0.12</td>\n",
       "      <td>0.16</td>\n",
       "      <td>0.1</td>\n",
       "      <td>0.0</td>\n",
       "    </tr>\n",
       "    <tr>\n",
       "      <th>Year</th>\n",
       "      <td>0.44</td>\n",
       "      <td>0.18</td>\n",
       "      <td>0.12</td>\n",
       "      <td>0.16</td>\n",
       "      <td>0.1</td>\n",
       "      <td>0.0</td>\n",
       "    </tr>\n",
       "  </tbody>\n",
       "</table>\n",
       "</div>"
      ],
      "text/plain": [
       "           BTCUSD  ETHUSD  LTCUSD  XRPUSD  EOSUSD  NONE\n",
       "Week         0.48    0.19    0.12    0.10     0.1   0.0\n",
       "Month        0.48    0.16    0.10    0.16     0.1   0.0\n",
       "Half-year    0.45    0.17    0.12    0.16     0.1   0.0\n",
       "Year         0.44    0.18    0.12    0.16     0.1   0.0"
      ]
     },
     "execution_count": 34,
     "metadata": {},
     "output_type": "execute_result"
    }
   ],
   "source": [
    "df = compare_winning_periods(60)\n",
    "df.head()"
   ]
  },
  {
   "cell_type": "code",
   "execution_count": 26,
   "metadata": {},
   "outputs": [
    {
     "data": {
      "text/plain": [
       "0.9999999999999991"
      ]
     },
     "execution_count": 26,
     "metadata": {},
     "output_type": "execute_result"
    }
   ],
   "source": [
    "0.458859424999379 + 0.21055242725671616 + 0.14881055738843552 + 0.09088879517773422 + 0.0902438419368442 + 0.0006449532408900354"
   ]
  },
  {
   "cell_type": "code",
   "execution_count": null,
   "metadata": {},
   "outputs": [],
   "source": [
    "# Non tech settings\n",
    "analysis_interval = 15 # seconds\n",
    "analysis_period_start = pendulum.parse('2017-08-01T00:00:00Z')\n",
    "analysis_period_in_days = [7, 30, 91, 182, 365]\n",
    "ccys = ['BTCUSD', 'ETHUSD', 'EOSUSD', 'XRPUSD', 'LTCUSD']"
   ]
  },
  {
   "cell_type": "markdown",
   "metadata": {},
   "source": [
    "###### Winning counts"
   ]
  },
  {
   "cell_type": "code",
   "execution_count": null,
   "metadata": {},
   "outputs": [],
   "source": [
    "# From db\n",
    "data = []\n",
    "prev_count = None\n",
    "for period in analysis_period_in_days:\n",
    "    start = analysis_period_start\n",
    "    end = start.add(days=period)\n",
    "    result = get_pricepoints_winner_count(ccys, start, end, analysis_interval, prev_count)\n",
    "    data.append((period, result))\n",
    "    prev_result = (start, end, prev_count)\n"
   ]
  },
  {
   "cell_type": "code",
   "execution_count": null,
   "metadata": {},
   "outputs": [],
   "source": [
    "rows = [list(t[1].values()) for t in data]\n",
    "df = pd.DataFrame(rows, columns=ccys, index=analysis_period_in_days).round(2)\n",
    "df['sum'] = df.sum(axis=1)\n",
    "df = df[ccys].div(df['sum'], axis=0).round(2)\n",
    "df.index.name = 'Period (days)'\n",
    "df.head(10)"
   ]
  },
  {
   "cell_type": "code",
   "execution_count": null,
   "metadata": {},
   "outputs": [],
   "source": [
    "rows = [list(t[1].values()) for t in data]\n",
    "df = pd.DataFrame(rows, columns=ccys, index=analysis_period_in_days)\n",
    "\n",
    "df['sum'] = df.sum(axis=1)\n",
    "df = df[ccys].div(df['sum'], axis=0).round(2)\n",
    "df.index.name = 'Period (days)'\n",
    "df.head(10)"
   ]
  },
  {
   "cell_type": "markdown",
   "metadata": {},
   "source": [
    "###### No trade counts"
   ]
  },
  {
   "cell_type": "code",
   "execution_count": null,
   "metadata": {},
   "outputs": [],
   "source": [
    "no_trade_list = []\n",
    "for ccy in ccys:\n",
    "    prefix = ccy.replace('USD', '')\n",
    "    column = prefix + '_trades_count'\n",
    "    trades_count = df[column]\n",
    "    aggregated_trade_counts = trades_count.value_counts()\n",
    "    no_trades_count = aggregated_trade_counts.get(0.0)\n",
    "    if not no_trades_count:\n",
    "        no_trades_count = 0\n",
    "        \n",
    "    ratio = no_trades_count / trades_count.size\n",
    "        \n",
    "    no_trade_list.append((prefix, no_trades_count, trades_count.size, ratio))\n",
    "        \n",
    "no_trade_df = pd.DataFrame(no_trade_list, columns=['Ccy', 'No Trade Count', 'Total', 'Ratio'])\n",
    "no_trade_df.head()"
   ]
  },
  {
   "cell_type": "code",
   "execution_count": null,
   "metadata": {},
   "outputs": [],
   "source": []
  }
 ],
 "metadata": {
  "kernelspec": {
   "display_name": "Python 3",
   "language": "python",
   "name": "python3"
  },
  "language_info": {
   "codemirror_mode": {
    "name": "ipython",
    "version": 3
   },
   "file_extension": ".py",
   "mimetype": "text/x-python",
   "name": "python",
   "nbconvert_exporter": "python",
   "pygments_lexer": "ipython3",
   "version": "3.7.0"
  }
 },
 "nbformat": 4,
 "nbformat_minor": 2
}
