{
 "cells": [
  {
   "cell_type": "markdown",
   "metadata": {},
   "source": [
    "### Crytocurrencies analyis\n",
    "\n",
    "#### Objective\n",
    "Show statistical 'analysis' on\n",
    "- Random variable 'winning', where X='BTC' is the event where BTC price increase the most in pct compared to other ccys during in interval\n",
    "- Random varible 'no trade', where X='BTC' is the event where BTC was not traded during an interval\n",
    "\n",
    "#### Approach\n",
    "Just explore data by counting for now \n"
   ]
  },
  {
   "cell_type": "markdown",
   "metadata": {},
   "source": [
    "#### Dependencies"
   ]
  },
  {
   "cell_type": "code",
   "execution_count": 4,
   "metadata": {},
   "outputs": [],
   "source": [
    "# Tech\n",
    "import os\n",
    "import sys\n",
    "import pandas as pd\n",
    "import numpy as np\n",
    "import pendulum\n",
    "\n",
    "module_path = os.path.join('..')\n",
    "if module_path not in sys.path:\n",
    "    sys.path.append(module_path)\n",
    "\n",
    "from src.models import DeltaPoint, Trade    \n",
    "from src.computed import get_pricepoints_winner_count\n",
    "from src.db import PgDb\n",
    "\n",
    "db = PgDb()"
   ]
  },
  {
   "cell_type": "code",
   "execution_count": 5,
   "metadata": {},
   "outputs": [],
   "source": [
    "# Non tech settings\n",
    "analysis_interval = 15 # seconds\n",
    "analysis_period_start = '2017-07-01T00:00:00Z'\n",
    "analysis_period_end = '2017-07-10T00:00:00Z'\n",
    "ccys = ['BTCUSD', 'ETHUSD', 'EOSUSD', 'XRPUSD', 'LTCUSD']"
   ]
  },
  {
   "cell_type": "markdown",
   "metadata": {},
   "source": [
    "###### Winning counts"
   ]
  },
  {
   "cell_type": "code",
   "execution_count": 6,
   "metadata": {},
   "outputs": [],
   "source": [
    "# From db\n",
    "data = [(ccy, db.get_pricepoints(ccy, analysis_period_start, analysis_period_end, interval=analysis_interval)) for ccy in ccys]"
   ]
  },
  {
   "cell_type": "code",
   "execution_count": 12,
   "metadata": {},
   "outputs": [],
   "source": [
    "# To dataframe\n",
    "df_dict = {}\n",
    "for ccy, values in data:\n",
    "    if not df_dict.get('time'):\n",
    "        df_dict['time'] = [p['time'] for p in values]\n",
    "        \n",
    "    prefix = ccy.replace('USD', '')\n",
    "    df_dict[f'{prefix}'] = [float(p['pct']) for p in values]\n",
    "    df_dict[f'{prefix}_trades_count'] = [float(p['n']) for p in values]\n",
    "    \n",
    "df = pd.DataFrame(df_dict)\n",
    "df['winner'] = df[['BTC', 'ETH', 'EOS', 'XRP', 'LTC']].idxmax(axis=1)\n",
    "foo = df.iloc[0:1000]\n",
    "foo.to_excel('./output.xlsx')"
   ]
  },
  {
   "cell_type": "code",
   "execution_count": 30,
   "metadata": {},
   "outputs": [
    {
     "data": {
      "text/html": [
       "<div>\n",
       "<style scoped>\n",
       "    .dataframe tbody tr th:only-of-type {\n",
       "        vertical-align: middle;\n",
       "    }\n",
       "\n",
       "    .dataframe tbody tr th {\n",
       "        vertical-align: top;\n",
       "    }\n",
       "\n",
       "    .dataframe thead th {\n",
       "        text-align: right;\n",
       "    }\n",
       "</style>\n",
       "<table border=\"1\" class=\"dataframe\">\n",
       "  <thead>\n",
       "    <tr style=\"text-align: right;\">\n",
       "      <th></th>\n",
       "      <th>BTCUSD</th>\n",
       "      <th>ETHUSD</th>\n",
       "      <th>EOSUSD</th>\n",
       "      <th>XRPUSD</th>\n",
       "      <th>LTCUSD</th>\n",
       "    </tr>\n",
       "    <tr>\n",
       "      <th>Period (days)</th>\n",
       "      <th></th>\n",
       "      <th></th>\n",
       "      <th></th>\n",
       "      <th></th>\n",
       "      <th></th>\n",
       "    </tr>\n",
       "  </thead>\n",
       "  <tbody>\n",
       "    <tr>\n",
       "      <th>7</th>\n",
       "      <td>0.31</td>\n",
       "      <td>0.28</td>\n",
       "      <td>0.19</td>\n",
       "      <td>0.08</td>\n",
       "      <td>0.13</td>\n",
       "    </tr>\n",
       "    <tr>\n",
       "      <th>30</th>\n",
       "      <td>0.28</td>\n",
       "      <td>0.26</td>\n",
       "      <td>0.18</td>\n",
       "      <td>0.13</td>\n",
       "      <td>0.14</td>\n",
       "    </tr>\n",
       "    <tr>\n",
       "      <th>91</th>\n",
       "      <td>0.28</td>\n",
       "      <td>0.25</td>\n",
       "      <td>0.17</td>\n",
       "      <td>0.13</td>\n",
       "      <td>0.16</td>\n",
       "    </tr>\n",
       "    <tr>\n",
       "      <th>182</th>\n",
       "      <td>0.23</td>\n",
       "      <td>0.22</td>\n",
       "      <td>0.20</td>\n",
       "      <td>0.17</td>\n",
       "      <td>0.17</td>\n",
       "    </tr>\n",
       "    <tr>\n",
       "      <th>365</th>\n",
       "      <td>0.25</td>\n",
       "      <td>0.20</td>\n",
       "      <td>0.22</td>\n",
       "      <td>0.18</td>\n",
       "      <td>0.16</td>\n",
       "    </tr>\n",
       "  </tbody>\n",
       "</table>\n",
       "</div>"
      ],
      "text/plain": [
       "               BTCUSD  ETHUSD  EOSUSD  XRPUSD  LTCUSD\n",
       "Period (days)                                        \n",
       "7                0.31    0.28    0.19    0.08    0.13\n",
       "30               0.28    0.26    0.18    0.13    0.14\n",
       "91               0.28    0.25    0.17    0.13    0.16\n",
       "182              0.23    0.22    0.20    0.17    0.17\n",
       "365              0.25    0.20    0.22    0.18    0.16"
      ]
     },
     "execution_count": 30,
     "metadata": {},
     "output_type": "execute_result"
    }
   ],
   "source": [
    "rows = [list(t[1].values()) for t in data]\n",
    "df = pd.DataFrame(rows, columns=ccys, index=analysis_period_in_days)\n",
    "\n",
    "df['sum'] = df.sum(axis=1)\n",
    "df = df[ccys].div(df['sum'], axis=0).round(2)\n",
    "df.index.name = 'Period (days)'\n",
    "df.head(10)"
   ]
  },
  {
   "cell_type": "markdown",
   "metadata": {},
   "source": [
    "###### No trade counts"
   ]
  },
  {
   "cell_type": "code",
   "execution_count": null,
   "metadata": {},
   "outputs": [],
   "source": [
    "no_trade_list = []\n",
    "for ccy in ccys:\n",
    "    prefix = ccy.replace('USD', '')\n",
    "    column = prefix + '_trades_count'\n",
    "    trades_count = df[column]\n",
    "    aggregated_trade_counts = trades_count.value_counts()\n",
    "    no_trades_count = aggregated_trade_counts.get(0.0)\n",
    "    if not no_trades_count:\n",
    "        no_trades_count = 0\n",
    "        \n",
    "    ratio = no_trades_count / trades_count.size\n",
    "        \n",
    "    no_trade_list.append((prefix, no_trades_count, trades_count.size, ratio))\n",
    "        \n",
    "no_trade_df = pd.DataFrame(no_trade_list, columns=['Ccy', 'No Trade Count', 'Total', 'Ratio'])\n",
    "no_trade_df.head()"
   ]
  },
  {
   "cell_type": "code",
   "execution_count": null,
   "metadata": {},
   "outputs": [],
   "source": []
  }
 ],
 "metadata": {
  "kernelspec": {
   "display_name": "Python 3",
   "language": "python",
   "name": "python3"
  },
  "language_info": {
   "codemirror_mode": {
    "name": "ipython",
    "version": 3
   },
   "file_extension": ".py",
   "mimetype": "text/x-python",
   "name": "python",
   "nbconvert_exporter": "python",
   "pygments_lexer": "ipython3",
   "version": "3.7.0"
  }
 },
 "nbformat": 4,
 "nbformat_minor": 2
}
