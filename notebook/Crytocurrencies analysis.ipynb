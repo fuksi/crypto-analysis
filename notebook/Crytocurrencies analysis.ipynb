{
 "cells": [
  {
   "cell_type": "markdown",
   "metadata": {},
   "source": [
    "### Crytocurrencies analyis\n",
    "\n",
    "#### Objective\n",
    "Show statistical analysis on\n",
    "- Random variable 'winning', where X='BTC' is the event where BTC price increase the most in pct compared to other ccys during in interval\n",
    "- Random varible 'no trade', where X='BTC' is the event where BTC was not traded during an interval\n",
    "\n",
    "#### Approach\n",
    "Just explore data by counting for now \n",
    "\n",
    "#### Some techinical note"
   ]
  },
  {
   "cell_type": "code",
   "execution_count": 90,
   "metadata": {},
   "outputs": [],
   "source": [
    "# Non tech settings\n",
    "analysis_interval = 20 # seconds\n",
    "analysis_period_start = '2017-08-01T00:00:00Z'\n",
    "analysis_period_end = '2017-08-01T00:02:00Z'\n",
    "ccys = ['BTC', 'ETH']"
   ]
  },
  {
   "cell_type": "code",
   "execution_count": 2,
   "metadata": {},
   "outputs": [],
   "source": [
    "# Tech\n",
    "import os\n",
    "import sys\n",
    "import pandas as pd\n",
    "import numpy as np\n",
    "import pendulum\n",
    "\n",
    "module_path = os.path.join('..')\n",
    "if module_path not in sys.path:\n",
    "    sys.path.append(module_path)\n",
    "    \n",
    "from src.db import PgDb\n",
    "from src.models import DeltaPoint, Trade\n",
    "from src.computed import compute_price_changes\n",
    "\n",
    "db = PgDb()"
   ]
  },
  {
   "cell_type": "code",
   "execution_count": 91,
   "metadata": {},
   "outputs": [],
   "source": [
    "data = [db.get_trades(ccy, analysis_period_start, analysis_period_end) for ccy in ccys]\n"
   ]
  },
  {
   "cell_type": "code",
   "execution_count": 4,
   "metadata": {},
   "outputs": [],
   "source": [
    "raw_trades = [Trade(pendulum.instance(t[0]), t[1], 0, 0) for t in data]\n",
    "trades = sorted(raw_trades, key=lambda x: x.time)c"
   ]
  },
  {
   "cell_type": "code",
   "execution_count": 5,
   "metadata": {},
   "outputs": [
    {
     "data": {
      "text/plain": [
       "True"
      ]
     },
     "execution_count": 5,
     "metadata": {},
     "output_type": "execute_result"
    }
   ],
   "source": [
    "all(trades[i].time <= trades[i+1].time for i in range(len(trades) - 1))"
   ]
  },
  {
   "cell_type": "code",
   "execution_count": 38,
   "metadata": {},
   "outputs": [
    {
     "data": {
      "text/plain": [
       "method"
      ]
     },
     "execution_count": 38,
     "metadata": {},
     "output_type": "execute_result"
    }
   ],
   "source": [
    "type(pendulum.instance(data[0][0]))\n",
    "type(raw_trades[0].time)\n",
    "type(trades[0].time.start_of)"
   ]
  },
  {
   "cell_type": "code",
   "execution_count": 51,
   "metadata": {},
   "outputs": [],
   "source": [
    "from src.models import DeltaPoint\n",
    "import pendulum\n",
    "\n",
    "def compute_price_changes(start_point, trades, interval_seconds):\n",
    "    if interval_seconds not in [15, 20, 30, 60]:\n",
    "        raise ValueError('Interval value not supported. Must be either 15, 20, 30, or 60')\n",
    "    if not trades:\n",
    "        raise ValueError('Trades cannot be empty')\n",
    "    if not all(trades[i].time <= trades[i+1].time for i in range(len(trades) - 1)):\n",
    "        raise ValueError('Trades must be in increasing order by time')\n",
    "\n",
    "    if not start_point:\n",
    "        first_trade = trades[0]\n",
    "        first_trade_time = first_trade.time\n",
    "        start_time = find_closest_possible_start_time(first_trade_time, interval_seconds)\n",
    "        interval_trades = [t for t in trades if t.time <= start_time]\n",
    "        start_point = DeltaPoint(start_time, interval_trades[-1].price, 0, 0, 0)\n",
    "\n",
    "    result = []\n",
    "    while True:\n",
    "        next_time = start_point.time.add(seconds=interval_seconds)\n",
    "        if next_time > trades[-1].time:\n",
    "            break\n",
    "\n",
    "        interval_trades = [t for t in trades if t.time > start_point.time and t.time <= next_time]\n",
    "        if not interval_trades:\n",
    "            next_delta = DeltaPoint(next_time, start_point.price, 0, 0, 0)\n",
    "        else:\n",
    "            last_trade = interval_trades[-1]\n",
    "            d = last_trade.price - start_point.price\n",
    "            pct = d / start_point.price * 100\n",
    "            n = len(interval_trades)\n",
    "            next_delta = DeltaPoint(next_time, last_trade.price, d, pct, n)\n",
    "\n",
    "        result.append(next_delta)\n",
    "        start_point = next_delta\n",
    "\n",
    "    return result\n",
    "\n",
    "def find_closest_possible_start_time(timestamp, interval):\n",
    "    ''' Find closest possible start time given a timestamp and interval\n",
    "    E.g.\n",
    "        - Given timestamp: 2017-08-01T00:01:24\n",
    "        - Given interval: 20s\n",
    "\n",
    "        Start time CAN'T be \n",
    "        - 2017-08-01T00:01:00, or \n",
    "        - 2017-08-01T00:01:20\n",
    "        since we won't have data for this\n",
    "\n",
    "        The closest possible start time is then 2017-08-01T00:01:40\n",
    "    \n",
    "    Arguments:\n",
    "        timestamp: pendulum \n",
    "        interval: integer\n",
    "    '''\n",
    "    next_start_time = timestamp.start_of('minute')\n",
    "    while True:\n",
    "        if next_start_time >= timestamp:\n",
    "            return next_start_time\n",
    "\n",
    "        next_start_time = next_start_time.add(seconds=interval)\n"
   ]
  },
  {
   "cell_type": "code",
   "execution_count": 53,
   "metadata": {},
   "outputs": [
    {
     "name": "stdout",
     "output_type": "stream",
     "text": [
      "[DeltaPoint(time=<Pendulum [2017-08-01T00:00:20+03:00]>, price=Decimal('2882.7000000000'), d=Decimal('2.7000000000'), pct=Decimal('0.0937500'), n=23), DeltaPoint(time=<Pendulum [2017-08-01T00:00:40+03:00]>, price=Decimal('2883.0000000000'), d=Decimal('0.3000000000'), pct=Decimal('0.01040691018836507440940784681'), n=21), DeltaPoint(time=<Pendulum [2017-08-01T00:01:00+03:00]>, price=Decimal('2883.0000000000'), d=Decimal('0E-10'), pct=Decimal('0'), n=14), DeltaPoint(time=<Pendulum [2017-08-01T00:01:20+03:00]>, price=Decimal('2883.5000000000'), d=Decimal('0.5000000000'), pct=Decimal('0.01734304543877904960110995491'), n=8), DeltaPoint(time=<Pendulum [2017-08-01T00:01:40+03:00]>, price=Decimal('2879.6000000000'), d=Decimal('-3.9000000000'), pct=Decimal('-0.1352522975550546211201664644'), n=20)]\n"
     ]
    }
   ],
   "source": [
    "result = compute_price_changes(None, trades, 20)\n",
    "print(result)"
   ]
  },
  {
   "cell_type": "code",
   "execution_count": 86,
   "metadata": {},
   "outputs": [],
   "source": [
    "result_as_series = {\n",
    "    'time': [dp.time.isoformat() for dp in result],\n",
    "    'price': [float(dp.price) for dp in result],\n",
    "    'price_delta': [float(dp.d) for dp in result],\n",
    "    'price_delta_pct': [float(dp.pct) for dp in result],\n",
    "    'number_of_trades': [float(dp.n) for dp in result],\n",
    "}\n"
   ]
  },
  {
   "cell_type": "code",
   "execution_count": 88,
   "metadata": {},
   "outputs": [
    {
     "data": {
      "text/html": [
       "<div>\n",
       "<style scoped>\n",
       "    .dataframe tbody tr th:only-of-type {\n",
       "        vertical-align: middle;\n",
       "    }\n",
       "\n",
       "    .dataframe tbody tr th {\n",
       "        vertical-align: top;\n",
       "    }\n",
       "\n",
       "    .dataframe thead th {\n",
       "        text-align: right;\n",
       "    }\n",
       "</style>\n",
       "<table border=\"1\" class=\"dataframe\">\n",
       "  <thead>\n",
       "    <tr style=\"text-align: right;\">\n",
       "      <th></th>\n",
       "      <th>time</th>\n",
       "      <th>price</th>\n",
       "      <th>price_delta</th>\n",
       "      <th>price_delta_pct</th>\n",
       "      <th>number_of_trades</th>\n",
       "    </tr>\n",
       "  </thead>\n",
       "  <tbody>\n",
       "    <tr>\n",
       "      <th>0</th>\n",
       "      <td>2017-08-01T00:00:20+03:00</td>\n",
       "      <td>2882.7</td>\n",
       "      <td>2.7</td>\n",
       "      <td>0.09375000</td>\n",
       "      <td>23.0</td>\n",
       "    </tr>\n",
       "    <tr>\n",
       "      <th>1</th>\n",
       "      <td>2017-08-01T00:00:40+03:00</td>\n",
       "      <td>2883.0</td>\n",
       "      <td>0.3</td>\n",
       "      <td>0.01040691</td>\n",
       "      <td>21.0</td>\n",
       "    </tr>\n",
       "    <tr>\n",
       "      <th>2</th>\n",
       "      <td>2017-08-01T00:01:00+03:00</td>\n",
       "      <td>2883.0</td>\n",
       "      <td>0.0</td>\n",
       "      <td>0.00000000</td>\n",
       "      <td>14.0</td>\n",
       "    </tr>\n",
       "    <tr>\n",
       "      <th>3</th>\n",
       "      <td>2017-08-01T00:01:20+03:00</td>\n",
       "      <td>2883.5</td>\n",
       "      <td>0.5</td>\n",
       "      <td>0.01734305</td>\n",
       "      <td>8.0</td>\n",
       "    </tr>\n",
       "    <tr>\n",
       "      <th>4</th>\n",
       "      <td>2017-08-01T00:01:40+03:00</td>\n",
       "      <td>2879.6</td>\n",
       "      <td>-3.9</td>\n",
       "      <td>-0.13525230</td>\n",
       "      <td>20.0</td>\n",
       "    </tr>\n",
       "  </tbody>\n",
       "</table>\n",
       "</div>"
      ],
      "text/plain": [
       "                        time   price  price_delta  price_delta_pct  \\\n",
       "0  2017-08-01T00:00:20+03:00  2882.7          2.7       0.09375000   \n",
       "1  2017-08-01T00:00:40+03:00  2883.0          0.3       0.01040691   \n",
       "2  2017-08-01T00:01:00+03:00  2883.0          0.0       0.00000000   \n",
       "3  2017-08-01T00:01:20+03:00  2883.5          0.5       0.01734305   \n",
       "4  2017-08-01T00:01:40+03:00  2879.6         -3.9      -0.13525230   \n",
       "\n",
       "   number_of_trades  \n",
       "0              23.0  \n",
       "1              21.0  \n",
       "2              14.0  \n",
       "3               8.0  \n",
       "4              20.0  "
      ]
     },
     "execution_count": 88,
     "metadata": {},
     "output_type": "execute_result"
    }
   ],
   "source": [
    "pd.set_option('display.precision', 8)\n",
    "df = pd.DataFrame(result_as_series)\n",
    "df.head()"
   ]
  },
  {
   "cell_type": "code",
   "execution_count": null,
   "metadata": {},
   "outputs": [],
   "source": [
    "df = pd.DataFrame(trades, columns=['Time', 'Price'])\n",
    "df.head()"
   ]
  },
  {
   "cell_type": "code",
   "execution_count": null,
   "metadata": {},
   "outputs": [],
   "source": [
    "df['Time'].max()"
   ]
  },
  {
   "cell_type": "code",
   "execution_count": null,
   "metadata": {},
   "outputs": [],
   "source": [
    "df.tail()"
   ]
  },
  {
   "cell_type": "code",
   "execution_count": 9,
   "metadata": {},
   "outputs": [],
   "source": [
    "from src.models import DeltaPoint\n",
    "import pendulum\n",
    "\n",
    "def compute_price_changes(start_point, trades, interval_seconds):\n",
    "    if interval_seconds not in [15, 20, 30, 60]:\n",
    "        raise ValueError('Interval value not supported. Must be either 15, 20, 30, or 60')\n",
    "    if not trades:\n",
    "        raise ValueError('Trades cannot be empty')\n",
    "    if not all(trades[i].time <= trades[i+1].time for i in range(len(trades) - 1)):\n",
    "        raise ValueError('Trades must be in increasing order by time')\n",
    "\n",
    "    if not start_point:\n",
    "        first_trade = trades[0]\n",
    "        first_trade_time = first_trade[0].time\n",
    "        start_time = find_closest_possible_start_time(first_trade_time, interval_seconds)\n",
    "        interval_trades = [t for t in trades if t.time <= start_time]\n",
    "        start_point = DeltaPoint(start_time, interval_trades[-1].price, 0, 0, 0)\n",
    "\n",
    "    result = []\n",
    "    while True:\n",
    "        next_time = start_point.time.add(seconds=interval_seconds)\n",
    "        if next_time > trades[-1].time:\n",
    "            break\n",
    "\n",
    "        interval_trades = [t for t in trades if t.time > start_point.time and t.time <= next_time]\n",
    "        if not interval_trades:\n",
    "            next_delta = DeltaPoint(next_time, start_point.price, 0, 0, 0)\n",
    "        else:\n",
    "            last_trade = interval_trades[-1]\n",
    "            d = last_trade.price - start_point.price\n",
    "            pct = d / start_point.price * 100\n",
    "            n = len(interval_trades)\n",
    "            next_delta = DeltaPoint(next_time, last_trade.price, d, pct, n)\n",
    "\n",
    "        result.append(next_delta)\n",
    "        start_point = next_delta\n",
    "\n",
    "    return result\n",
    "\n",
    "def find_closest_possible_start_time(timestamp, interval):\n",
    "    ''' Find closest possible start time given a timestamp and interval\n",
    "    E.g.\n",
    "        - Given timestamp: 2017-08-01T00:01:24\n",
    "        - Given interval: 20s\n",
    "\n",
    "        Start time CAN'T be \n",
    "        - 2017-08-01T00:01:00, or \n",
    "        - 2017-08-01T00:01:20\n",
    "        since we won't have data for this\n",
    "\n",
    "        The closest possible start time is then 2017-08-01T00:01:40\n",
    "    \n",
    "    Arguments:\n",
    "        timestamp: pendulum \n",
    "        interval: integer\n",
    "    '''\n",
    "\n",
    "    next_start_time = timestamp.start_of('minute')\n",
    "    while True:\n",
    "        if next_start_time >= timestamp:\n",
    "            return next_start_time\n",
    "\n",
    "        next_start_time = next_start_time.add(seconds=interval)\n"
   ]
  },
  {
   "cell_type": "code",
   "execution_count": null,
   "metadata": {},
   "outputs": [],
   "source": []
  }
 ],
 "metadata": {
  "kernelspec": {
   "display_name": "Python 3",
   "language": "python",
   "name": "python3"
  },
  "language_info": {
   "codemirror_mode": {
    "name": "ipython",
    "version": 3
   },
   "file_extension": ".py",
   "mimetype": "text/x-python",
   "name": "python",
   "nbconvert_exporter": "python",
   "pygments_lexer": "ipython3",
   "version": "3.7.1rc1"
  }
 },
 "nbformat": 4,
 "nbformat_minor": 2
}
